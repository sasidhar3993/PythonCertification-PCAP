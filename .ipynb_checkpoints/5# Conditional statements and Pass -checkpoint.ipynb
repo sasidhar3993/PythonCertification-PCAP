{
 "cells": [
  {
   "cell_type": "code",
   "execution_count": null,
   "metadata": {},
   "outputs": [],
   "source": [
    "if condition:           \n",
    "   # Statements to execute if\n",
    "   # condition is true\n",
    "\n",
    "\n",
    "if condition:\n",
    "   statement1\n",
    "statement2\n",
    "\n",
    "# Here if the condition is true, if block \n",
    "# will consider only statement1 to be inside \n",
    "# its block."
   ]
  },
  {
   "cell_type": "code",
   "execution_count": 3,
   "metadata": {},
   "outputs": [
    {
     "name": "stdout",
     "output_type": "stream",
     "text": [
      "I am Not in if\n"
     ]
    }
   ],
   "source": [
    "# python program to illustrate If statement\n",
    "  \n",
    "i = 10\n",
    "if (i > 15):\n",
    "   print (\"10 is less than 15\")\n",
    "print (\"I am Not in if\")"
   ]
  },
  {
   "cell_type": "code",
   "execution_count": 2,
   "metadata": {},
   "outputs": [
    {
     "name": "stdout",
     "output_type": "stream",
     "text": [
      "i is greater than 15\n",
      "i'm in else Block\n",
      "i'm not in if and not in else Block\n"
     ]
    }
   ],
   "source": [
    "i = 20;\n",
    "if (i < 15):\n",
    "    print (\"i is smaller than 15\")\n",
    "    print (\"i'm in if Block\")\n",
    "else:\n",
    "    print (\"i is greater than 15\")\n",
    "    print (\"i'm in else Block\")\n",
    "print (\"i'm not in if and not in else Block\")"
   ]
  },
  {
   "cell_type": "code",
   "execution_count": 1,
   "metadata": {},
   "outputs": [
    {
     "name": "stdout",
     "output_type": "stream",
     "text": [
      "i is smaller than 15\n",
      "i is smaller than 12 too\n"
     ]
    }
   ],
   "source": [
    "i = 10\n",
    "if (i == 10):\n",
    "    #  First if statement\n",
    "    if (i < 15):\n",
    "        print (\"i is smaller than 15\")\n",
    "    # Nested - if statement\n",
    "    # Will only be executed if statement above\n",
    "    # it is true\n",
    "    if (i < 12):\n",
    "        print (\"i is smaller than 12 too\")\n",
    "    else:\n",
    "        print (\"i is greater than 15\")"
   ]
  },
  {
   "cell_type": "markdown",
   "metadata": {},
   "source": [
    "### Pass \n",
    "\n",
    "The pass statement is used as a placeholder for future code. When the pass statement is executed, nothing happens, but you avoid getting an error when empty code is not allowed.\n",
    "\n",
    "It makes your code syntatically correct"
   ]
  },
  {
   "cell_type": "code",
   "execution_count": 5,
   "metadata": {},
   "outputs": [],
   "source": [
    "def some_function():\n",
    "    # this function does nothing but makes the code syntatically correct \n",
    "    pass\n"
   ]
  }
 ],
 "metadata": {
  "kernelspec": {
   "display_name": "Python 3",
   "language": "python",
   "name": "python3"
  },
  "language_info": {
   "codemirror_mode": {
    "name": "ipython",
    "version": 3
   },
   "file_extension": ".py",
   "mimetype": "text/x-python",
   "name": "python",
   "nbconvert_exporter": "python",
   "pygments_lexer": "ipython3",
   "version": "3.8.5"
  }
 },
 "nbformat": 4,
 "nbformat_minor": 4
}
