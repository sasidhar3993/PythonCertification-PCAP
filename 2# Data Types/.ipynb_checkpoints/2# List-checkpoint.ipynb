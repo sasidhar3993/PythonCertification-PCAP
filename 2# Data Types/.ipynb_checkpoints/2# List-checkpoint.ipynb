{
 "cells": [
  {
   "cell_type": "markdown",
   "metadata": {},
   "source": [
    "## Lists  \n",
    "\n",
    "- General purpose\n",
    "- Most widely used data structure \n",
    "- Grow and shrink size as needed\n",
    "- Sequence type\n",
    "- Sortable  \n",
    "\n",
    "**constructors** - creating a new list"
   ]
  },
  {
   "cell_type": "code",
   "execution_count": null,
   "metadata": {},
   "outputs": [],
   "source": [
    "x = list()\n",
    "y = ['a', 25, 'dog', 8.43]\n",
    "tuple1 = (10, 20)\n",
    "z = list(tuple1)\n"
   ]
  },
  {
   "cell_type": "markdown",
   "metadata": {},
   "source": [
    "**delete** - delete a list or an item in a list"
   ]
  },
  {
   "cell_type": "code",
   "execution_count": null,
   "metadata": {},
   "outputs": [],
   "source": [
    "x = [5, 3, 8, 6]\n",
    "del(x[1])\n",
    "print(x)\n",
    "del(x)    # list x no longer exists"
   ]
  },
  {
   "cell_type": "markdown",
   "metadata": {},
   "source": [
    "**append** - append an item to a list"
   ]
  },
  {
   "cell_type": "code",
   "execution_count": null,
   "metadata": {},
   "outputs": [],
   "source": [
    "x = [5, 3, 8, 6]\n",
    "x.append(7)\n",
    "print(x)"
   ]
  },
  {
   "cell_type": "markdown",
   "metadata": {},
   "source": [
    "**extend** - append a sequence to a list"
   ]
  },
  {
   "cell_type": "code",
   "execution_count": null,
   "metadata": {},
   "outputs": [],
   "source": [
    "x = [5, 3, 8, 6]\n",
    "y = [12, 13]\n",
    "x.extend(y)\n",
    "print(x)"
   ]
  },
  {
   "cell_type": "markdown",
   "metadata": {},
   "source": [
    "**insert** - insert an item at a given index"
   ]
  },
  {
   "cell_type": "code",
   "execution_count": null,
   "metadata": {},
   "outputs": [],
   "source": [
    "x = [5, 3, 8, 6]\n",
    "x.insert(1, 7)\n",
    "print(x)\n",
    "x.insert(1, ['a', 'm'])\n",
    "print(x)"
   ]
  },
  {
   "cell_type": "markdown",
   "metadata": {},
   "source": [
    "**pop** - pops last item off list and returns item"
   ]
  },
  {
   "cell_type": "code",
   "execution_count": 1,
   "metadata": {},
   "outputs": [
    {
     "name": "stdout",
     "output_type": "stream",
     "text": [
      "[5, 3, 8]\n",
      "8\n"
     ]
    }
   ],
   "source": [
    "x = [5, 3, 8, 6]\n",
    "x.pop()    # pop off the 6\n",
    "print(x)\n",
    "print(x.pop())"
   ]
  },
  {
   "cell_type": "markdown",
   "metadata": {},
   "source": [
    "**remove** - remove first instance of an item"
   ]
  },
  {
   "cell_type": "code",
   "execution_count": null,
   "metadata": {},
   "outputs": [],
   "source": [
    "x = [5, 3, 8, 6, 3]\n",
    "x.remove(3)\n",
    "print(x)"
   ]
  },
  {
   "cell_type": "markdown",
   "metadata": {},
   "source": [
    "**reverse** - reverse the order of the list. It is an in-place sort, meaning it changes the original list."
   ]
  },
  {
   "cell_type": "code",
   "execution_count": null,
   "metadata": {},
   "outputs": [],
   "source": [
    "x = [5, 3, 8, 6]\n",
    "x.reverse()\n",
    "print(x)"
   ]
  },
  {
   "cell_type": "markdown",
   "metadata": {},
   "source": [
    "**sort** - sort the list in place.  \n",
    "Note:  \n",
    "sorted(x) returns a new sorted list without changing the original list x.  \n",
    "x.sort() puts the items of x in sorted order (sorts in place)."
   ]
  },
  {
   "cell_type": "code",
   "execution_count": 2,
   "metadata": {},
   "outputs": [
    {
     "name": "stdout",
     "output_type": "stream",
     "text": [
      "[3, 5, 6, 8]\n"
     ]
    }
   ],
   "source": [
    "x = [5, 3, 8, 6]\n",
    "x.sort()\n",
    "print(x)"
   ]
  },
  {
   "cell_type": "markdown",
   "metadata": {},
   "source": [
    "**indexing** - access any item in the sequence using its index.  \n",
    "Indexing starts with 0 for the first element."
   ]
  },
  {
   "cell_type": "code",
   "execution_count": null,
   "metadata": {},
   "outputs": [],
   "source": [
    "# list\n",
    "x = ['pig', 'cow', 'horse']\n",
    "print (x[1])"
   ]
  },
  {
   "cell_type": "markdown",
   "metadata": {},
   "source": [
    "**adding / concatenating** - combine 2 sequences of the same type by using +"
   ]
  },
  {
   "cell_type": "code",
   "execution_count": null,
   "metadata": {},
   "outputs": [],
   "source": [
    "# list\n",
    "y = ['pig', 'cow'] + ['horse']\n",
    "print(y)"
   ]
  },
  {
   "cell_type": "markdown",
   "metadata": {},
   "source": [
    "**multiplying** - multiply a sequence using *"
   ]
  },
  {
   "cell_type": "code",
   "execution_count": null,
   "metadata": {},
   "outputs": [],
   "source": [
    "# list\n",
    "y = [8, 5] * 3\n",
    "print(y)"
   ]
  },
  {
   "cell_type": "markdown",
   "metadata": {},
   "source": [
    "**checking membership** - test whether an item is or is not in a sequence."
   ]
  },
  {
   "cell_type": "code",
   "execution_count": null,
   "metadata": {},
   "outputs": [],
   "source": [
    "# list\n",
    "y = ['pig', 'cow', 'horse']\n",
    "print('cow' not in y)"
   ]
  },
  {
   "cell_type": "markdown",
   "metadata": {},
   "source": [
    "**iterating** - iterating through the items in a sequence"
   ]
  },
  {
   "cell_type": "code",
   "execution_count": null,
   "metadata": {},
   "outputs": [],
   "source": [
    "# index & item\n",
    "y = [7, 8, 3]\n",
    "for index, item in enumerate(y):\n",
    "    print(index, item)"
   ]
  },
  {
   "cell_type": "markdown",
   "metadata": {},
   "source": [
    "**number of items** - count the number of items in a sequence"
   ]
  },
  {
   "cell_type": "code",
   "execution_count": null,
   "metadata": {},
   "outputs": [],
   "source": [
    "# list\n",
    "y = ['pig', 'cow', 'horse']\n",
    "print(len(y))"
   ]
  },
  {
   "cell_type": "markdown",
   "metadata": {},
   "source": [
    "**minimum** - find the minimum item in a sequence lexicographically.  \n",
    "Alpha or numeric types, but cannot mix types."
   ]
  },
  {
   "cell_type": "code",
   "execution_count": null,
   "metadata": {},
   "outputs": [],
   "source": [
    "# list\n",
    "y = ['pig', 'cow', 'horse']\n",
    "print(min(y))"
   ]
  },
  {
   "cell_type": "markdown",
   "metadata": {},
   "source": [
    "**maximum** - find the maximum item in a sequence lexicographically.  \n",
    "Alpha or numeric types, but cannot mix types."
   ]
  },
  {
   "cell_type": "code",
   "execution_count": null,
   "metadata": {},
   "outputs": [],
   "source": [
    "# list\n",
    "y = ['pig', 'cow', 'horse']\n",
    "print(max(y))"
   ]
  },
  {
   "cell_type": "markdown",
   "metadata": {},
   "source": [
    "**sum** - find the sum of items in a sequence.  \n",
    "Entire sequence must be numeric."
   ]
  },
  {
   "cell_type": "code",
   "execution_count": 3,
   "metadata": {},
   "outputs": [
    {
     "name": "stdout",
     "output_type": "stream",
     "text": [
      "27\n",
      "20\n"
     ]
    }
   ],
   "source": [
    "# list\n",
    "y = [2, 5, 8, 12]\n",
    "print(sum(y))\n",
    "print(sum(y[-2:]))"
   ]
  },
  {
   "cell_type": "markdown",
   "metadata": {},
   "source": [
    "**sorting** - returns a new list of items in sorted order.  \n",
    "Does not change the original list."
   ]
  },
  {
   "cell_type": "code",
   "execution_count": null,
   "metadata": {},
   "outputs": [],
   "source": [
    "# list\n",
    "y = ['pig', 'cow', 'horse']\n",
    "print(sorted(y))"
   ]
  },
  {
   "cell_type": "markdown",
   "metadata": {},
   "source": [
    "**count(item)** - returns count of an item"
   ]
  },
  {
   "cell_type": "code",
   "execution_count": null,
   "metadata": {},
   "outputs": [],
   "source": [
    "# list\n",
    "y = ['pig', 'cow', 'horse', 'cow']\n",
    "print(y.count('cow'))"
   ]
  },
  {
   "cell_type": "markdown",
   "metadata": {},
   "source": [
    "### List Comprehension\n",
    "\n",
    "List comprehensions are used for creating new lists from other iterables like tuples, strings, arrays, lists, etc.\n",
    "\n",
    "**Syntax:** *newList = [ expression(element) for element in oldList if condition ]*"
   ]
  },
  {
   "cell_type": "code",
   "execution_count": 5,
   "metadata": {},
   "outputs": [
    {
     "name": "stdout",
     "output_type": "stream",
     "text": [
      "[1, 9, 25, 49, 81]\n"
     ]
    }
   ],
   "source": [
    "# below list contains square of all \n",
    "# odd numbers from range 1 to 10 \n",
    "odd_square = [x ** 2 for x in range(1, 11) if x % 2 == 1] \n",
    "print (odd_square)"
   ]
  },
  {
   "cell_type": "code",
   "execution_count": 4,
   "metadata": {},
   "outputs": [
    {
     "name": "stdout",
     "output_type": "stream",
     "text": [
      "[1, 9, 25, 49, 81]\n"
     ]
    }
   ],
   "source": [
    "# for understanding, above generation is same as, \n",
    "odd_square = [] \n",
    "  \n",
    "for x in range(1, 11): \n",
    "    if x % 2 == 1: \n",
    "        odd_square.append(x**2) \n",
    "  \n",
    "print (odd_square) "
   ]
  },
  {
   "cell_type": "code",
   "execution_count": null,
   "metadata": {},
   "outputs": [],
   "source": []
  }
 ],
 "metadata": {
  "kernelspec": {
   "display_name": "Python 3",
   "language": "python",
   "name": "python3"
  },
  "language_info": {
   "codemirror_mode": {
    "name": "ipython",
    "version": 3
   },
   "file_extension": ".py",
   "mimetype": "text/x-python",
   "name": "python",
   "nbconvert_exporter": "python",
   "pygments_lexer": "ipython3",
   "version": "3.8.5"
  }
 },
 "nbformat": 4,
 "nbformat_minor": 4
}
