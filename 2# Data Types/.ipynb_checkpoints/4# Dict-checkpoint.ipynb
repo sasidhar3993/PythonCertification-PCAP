{
 "cells": [
  {
   "cell_type": "markdown",
   "metadata": {},
   "source": [
    "## Dictionaries (dict)\n",
    "\n",
    "- Key/Value pairs\n",
    "- Associative array, like Java HashMap\n",
    "- Dicts are Unordered"
   ]
  },
  {
   "cell_type": "code",
   "execution_count": null,
   "metadata": {},
   "outputs": [],
   "source": [
    "x = {'pork':25.3, 'beef':33.8, 'chicken':22.7}\n",
    "print(x)\n",
    "x = dict([('pork', 25.3),('beef', 33.8),('chicken', 22.7)])\n",
    "print(x)\n",
    "x = dict(pork=25.3, beef=33.8, chicken=22.7)\n",
    "print(x)"
   ]
  },
  {
   "cell_type": "markdown",
   "metadata": {},
   "source": [
    "**dict operations**"
   ]
  },
  {
   "cell_type": "code",
   "execution_count": null,
   "metadata": {},
   "outputs": [],
   "source": [
    "x['shrimp'] = 38.2    # add or update\n",
    "print(x)\n",
    "\n",
    "# delete an item\n",
    "del(x['shrimp'])\n",
    "print(x)\n",
    "\n",
    "# get length of dict x\n",
    "print(len(x))\n",
    "\n",
    "# delete all items from dict x\n",
    "x.clear()\n",
    "print(x)\n",
    "\n",
    "# delete dict x\n",
    "del(x)"
   ]
  },
  {
   "cell_type": "markdown",
   "metadata": {},
   "source": [
    "**accessing keys and values in a dict**"
   ]
  },
  {
   "cell_type": "code",
   "execution_count": null,
   "metadata": {},
   "outputs": [],
   "source": [
    "y = {'pork':25.3, 'beef':33.8, 'chicken':22.7}\n",
    "print(y.keys())\n",
    "print(y.values())\n",
    "print(y.items())      # key-value pairs\n",
    "\n",
    "# check membership in y_keys (only looks in keys, not values)\n",
    "print('beef' in y)\n",
    "\n",
    "# check membership in y_values\n",
    "print('clams' in y.values())"
   ]
  },
  {
   "cell_type": "markdown",
   "metadata": {},
   "source": [
    "**iterating a dict - note, items are in random order**"
   ]
  },
  {
   "cell_type": "code",
   "execution_count": null,
   "metadata": {},
   "outputs": [],
   "source": [
    "for key in y:\n",
    "    print(key, y[key])\n",
    "    \n",
    "for k, v in y.items():\n",
    "    print(k, v)"
   ]
  }
 ],
 "metadata": {
  "kernelspec": {
   "display_name": "Python 3",
   "language": "python",
   "name": "python3"
  },
  "language_info": {
   "codemirror_mode": {
    "name": "ipython",
    "version": 3
   },
   "file_extension": ".py",
   "mimetype": "text/x-python",
   "name": "python",
   "nbconvert_exporter": "python",
   "pygments_lexer": "ipython3",
   "version": "3.8.5"
  }
 },
 "nbformat": 4,
 "nbformat_minor": 4
}
