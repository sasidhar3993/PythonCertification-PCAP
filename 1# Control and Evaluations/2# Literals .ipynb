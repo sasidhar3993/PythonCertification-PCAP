{
 "cells": [
  {
   "cell_type": "markdown",
   "metadata": {},
   "source": [
    "### Literals in Python\n",
    "Generally, literals are a notation for representing a fixed value in source code. They can also be defined as raw value or data given in variables or constants\n",
    "\n",
    "* String literals\n",
    "* Numeric literals\n",
    "* Boolean literals\n",
    "* Literal Collections\n",
    "* Special literals\n",
    "\n",
    "#### String literals\n",
    "A string literal can be created by writing a text(a group of Characters ) surrounded by the single(”), double(“”), or triple quotes.  By using triple quotes we can write multi-line strings or display in the desired way. "
   ]
  },
  {
   "cell_type": "code",
   "execution_count": 8,
   "metadata": {},
   "outputs": [
    {
     "name": "stdout",
     "output_type": "stream",
     "text": [
      "geekforgeeks\n",
      "geekforgeeks\n",
      "geek \n",
      "           for \n",
      "               geeks\n"
     ]
    }
   ],
   "source": [
    "# string literals\n",
    "  \n",
    "# in single quote\n",
    "s = 'geekforgeeks'\n",
    "  \n",
    "# in double quotes\n",
    "t = \"geekforgeeks\"\n",
    "  \n",
    "# multi-line String\n",
    "m = '''geek \n",
    "           for \n",
    "               geeks'''\n",
    "  \n",
    "print(s)\n",
    "print(t)\n",
    "print(m)"
   ]
  },
  {
   "cell_type": "markdown",
   "metadata": {},
   "source": [
    "#### Character literal\n",
    "It is also a type of string literals where a single character surrounded by single or double-quotes."
   ]
  },
  {
   "cell_type": "code",
   "execution_count": 7,
   "metadata": {},
   "outputs": [
    {
     "name": "stdout",
     "output_type": "stream",
     "text": [
      "n\n",
      "a\n"
     ]
    }
   ],
   "source": [
    "# character literal in single quote\n",
    "v = 'n'\n",
    "  \n",
    "# character literal in double quotes\n",
    "w = \"a\"\n",
    "  \n",
    "print(v)\n",
    "print(w)"
   ]
  },
  {
   "cell_type": "markdown",
   "metadata": {},
   "source": [
    "#### Numeric literal\n",
    "They are  immutable and there are three types of numeric literal : \n",
    "* Integer\n",
    "* Float\n",
    "* Complex.\n",
    "\n",
    "**Integer :** Both positive and negative numbers including 0. There should not be any fractional part.\n",
    "\n",
    "**Float :** These are real numbers having both integer and fractional parts.\n",
    "\n",
    "**Complex :** The numerals will be in the form of a+bj, where ‘a‘ is the real part and ‘b‘ is the complex part."
   ]
  },
  {
   "cell_type": "code",
   "execution_count": 9,
   "metadata": {},
   "outputs": [
    {
     "name": "stdout",
     "output_type": "stream",
     "text": [
      "20 50 208 299\n"
     ]
    }
   ],
   "source": [
    "# integer literal\n",
    "  \n",
    "# Binary Literals\n",
    "a = 0b10100\n",
    "  \n",
    "# Decimal Literal\n",
    "b = 50\n",
    "  \n",
    "# Octal Literal\n",
    "c = 0o320\n",
    "  \n",
    "# Hexadecimal Literal\n",
    "d = 0x12b\n",
    "  \n",
    "print(a, b, c, d)"
   ]
  },
  {
   "cell_type": "code",
   "execution_count": 1,
   "metadata": {},
   "outputs": [
    {
     "name": "stdout",
     "output_type": "stream",
     "text": [
      "24.8 45.0\n"
     ]
    }
   ],
   "source": [
    "# Float Literal\n",
    "e = 24.8\n",
    "f = 45.0\n",
    "  \n",
    "print(e, f)"
   ]
  },
  {
   "cell_type": "code",
   "execution_count": 1,
   "metadata": {},
   "outputs": [
    {
     "name": "stdout",
     "output_type": "stream",
     "text": [
      "(7+5j) 7j\n"
     ]
    }
   ],
   "source": [
    "z = 7 + 5j\n",
    "  \n",
    "# real part is 0 here.\n",
    "k = 7j\n",
    "  \n",
    "print(z, k)"
   ]
  },
  {
   "cell_type": "markdown",
   "metadata": {},
   "source": [
    "#### Boolean literal\n",
    "There are only two boolean literals in Python. They are true and false.\n"
   ]
  },
  {
   "cell_type": "code",
   "execution_count": 10,
   "metadata": {},
   "outputs": [
    {
     "name": "stdout",
     "output_type": "stream",
     "text": [
      "a is True\n",
      "b is False\n",
      "c: 4\n",
      "d: 7\n"
     ]
    }
   ],
   "source": [
    "a = (1 == True)\n",
    "b = (1 == False)\n",
    "c = True + 3\n",
    "d = False + 7\n",
    "  \n",
    "print(\"a is\", a)\n",
    "print(\"b is\", b)\n",
    "print(\"c:\", c)\n",
    "print(\"d:\", d)"
   ]
  },
  {
   "cell_type": "markdown",
   "metadata": {},
   "source": [
    "#### Literal Collections\n",
    "There are four different types of literal collections\n",
    "\n",
    "* List literals\n",
    "* Tuple literals\n",
    "* Dict literals\n",
    "* Set literals\n",
    "\n",
    "**List literals :**\n",
    "List contains items of different data types. The values stored in List are separated by comma (,) and enclosed within square brackets([]). We can store different types of data in a List. Lists are mutable."
   ]
  },
  {
   "cell_type": "code",
   "execution_count": null,
   "metadata": {},
   "outputs": [],
   "source": [
    "# List literals\n",
    "number = [1, 2, 3, 4, 5]\n",
    "name = ['Amit', 'kabir', 'bhaskar', 2]\n",
    "print(number)\n",
    "print(name)"
   ]
  },
  {
   "cell_type": "markdown",
   "metadata": {},
   "source": [
    "**Tuple literals :**\n",
    "A tuple is a collection of different data-type.  It is enclosed by the parentheses ‘()‘ and each element is separated by the comma(,). It is immutable."
   ]
  },
  {
   "cell_type": "code",
   "execution_count": 3,
   "metadata": {},
   "outputs": [
    {
     "name": "stdout",
     "output_type": "stream",
     "text": [
      "(2, 4, 6, 8)\n",
      "(1, 3, 5, 7)\n"
     ]
    }
   ],
   "source": [
    "# Tuple literals\n",
    "even_number = (2, 4, 6, 8)\n",
    "odd_number = (1, 3, 5, 7)\n",
    "  \n",
    "print(even_number)\n",
    "print(odd_number)"
   ]
  },
  {
   "cell_type": "markdown",
   "metadata": {},
   "source": [
    "**Dictionary literals :**\n",
    "Dictionary stores the data in the key-value pair. It is enclosed by curly-braces ‘{}‘ and each pair is separated by the commas(,).  We can store different types of data in a dictionary. Dictionaries are mutable."
   ]
  },
  {
   "cell_type": "code",
   "execution_count": 4,
   "metadata": {},
   "outputs": [
    {
     "name": "stdout",
     "output_type": "stream",
     "text": [
      "{'a': 'apple', 'b': 'ball', 'c': 'cat'}\n",
      "{'name': 'amit', 'age': 20, 'ID': 20}\n"
     ]
    }
   ],
   "source": [
    "# Dict literals\n",
    "alphabets = {'a': 'apple', 'b': 'ball', 'c': 'cat'}\n",
    "information = {'name': 'amit', 'age': 20, 'ID': 20}\n",
    "  \n",
    "print(alphabets)\n",
    "print(information)"
   ]
  },
  {
   "cell_type": "markdown",
   "metadata": {},
   "source": [
    "**Set literals :**\n",
    "Set is the collection of the unordered data set. It is enclosed by the {} and each element is separated by the comma(,)."
   ]
  },
  {
   "cell_type": "code",
   "execution_count": 5,
   "metadata": {},
   "outputs": [
    {
     "name": "stdout",
     "output_type": "stream",
     "text": [
      "{'a', 'o', 'u', 'e', 'i'}\n",
      "{'apple', 'banana', 'cherry'}\n"
     ]
    }
   ],
   "source": [
    "# Set literals\n",
    "vowels = {'a', 'e', 'i', 'o', 'u'}\n",
    "fruits = {\"apple\", \"banana\", \"cherry\"}\n",
    "  \n",
    "print(vowels)\n",
    "print(fruits)"
   ]
  },
  {
   "cell_type": "markdown",
   "metadata": {},
   "source": [
    "**Special literals :**\n",
    "Python contains one special literal (None). ‘None’ is used to define a null variable. If ‘None’ is compared with anything else other than a ‘None’, it will return false."
   ]
  },
  {
   "cell_type": "code",
   "execution_count": 6,
   "metadata": {},
   "outputs": [
    {
     "name": "stdout",
     "output_type": "stream",
     "text": [
      "None\n"
     ]
    }
   ],
   "source": [
    "# Special literals\n",
    "water_remain = None\n",
    "print(water_remain)"
   ]
  }
 ],
 "metadata": {
  "kernelspec": {
   "display_name": "Python 3",
   "language": "python",
   "name": "python3"
  },
  "language_info": {
   "codemirror_mode": {
    "name": "ipython",
    "version": 3
   },
   "file_extension": ".py",
   "mimetype": "text/x-python",
   "name": "python",
   "nbconvert_exporter": "python",
   "pygments_lexer": "ipython3",
   "version": "3.8.5"
  }
 },
 "nbformat": 4,
 "nbformat_minor": 4
}
