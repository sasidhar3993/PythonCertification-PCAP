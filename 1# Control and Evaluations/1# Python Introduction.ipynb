{
 "cells": [
  {
   "cell_type": "markdown",
   "metadata": {},
   "source": [
    "# PCAP - Certified Associste in Python Programming\n",
    "### PCAP-31-02\n",
    "##### Exam block #1: Control and Evaluations(25%)\n",
    "\n",
    "* basic concepts: interpreting and the interpreter, compilation and the compiler, language elements, lexis, syntax and semantics, Python keywords, instructions, indenting\n",
    "* literals: Boolean, integer, floating-point numbers, scientific notation, strings\n",
    "* operators: unary and binary, priorities and binding\n",
    "* numeric operators: ** * / % // + –\n",
    "* bitwise operators: ~ & ^ | << >>\n",
    "* string operators: * +\n",
    "* Boolean operators: not and or\n",
    "* relational operators ( == != > >= < <= ), building complex Boolean expressions\n",
    "* assignments and shortcut operators\n",
    "* accuracy of floating-point numbers\n",
    "* basic input and output: input(), print(), int(), float(), str() functions\n",
    "* formatting print() output with end= and sep= arguments\n",
    "* conditional statements: if, if-else, if-elif, if-elif-else\n",
    "* the pass instruction\n",
    "* simple lists: constructing vectors, indexing and slicing, the len() function\n",
    "* simple strings: constructing, assigning, indexing, slicing comparing, immutability\n",
    "* building loops: while, for, range(), in, iterating through sequences\n",
    "* expanding loops: while-else, for-else, nesting loops and conditional statements\n",
    "* controlling loop execution: break, continue\n"
   ]
  },
  {
   "cell_type": "markdown",
   "metadata": {},
   "source": [
    "### Topic1 basic concepts: interpreting and the interpreter, compilation and the compiler, language elements, lexis, syntax and semantics, Python keywords, instructions, indenting"
   ]
  },
  {
   "cell_type": "markdown",
   "metadata": {},
   "source": [
    "#### Python Introduction\n",
    "\n",
    "Python is a widely used general-purpose, high level programming language. It was created by Guido van Rossum in 1991 and further developed by the Python Software Foundation. It was designed with an emphasis on code readability, and its syntax allows programmers to express their concepts in fewer lines of code.\n",
    "\n",
    "Python is a programming language that lets you work quickly and integrate systems more efficiently.\n",
    "\n",
    "There are two major Python versions: Python 2 and Python 3. Both are quite different.\n",
    "\n",
    "###### Python is an interpreted, high-level, general-purpose programming language. It is is dynamically typed and garbage-collected.\n",
    "\n",
    "##### Interpreted Languages\n",
    "\n",
    "When you write a program in C/C++, you have to compile it. Compilation involves translating your human understandable code to machine understandable code, or Machine Code. Machine code is the base level form of instructions that can be directly executed by the CPU. Upon successful compilation, your code generates an executable file. Executing this file runs the operations in your code step by step.\n",
    "For the most part, Python is an interpreted language and not a compiled one, although compilation is a step. Python code, written in .py file is first compiled to what is called bytecode (discussed in detail further) which is stored with a .pyc or .pyo format.\n",
    "Instead of translating source code to machine code like C++, Python code it translated to bytecode. This bytecode is a low-level set of instructions that can be executed by an interpreter. In most PCs, Python interpreter is installed at /usr/local/bin/python3.8. Instead of executing the instructions on CPU, bytecode instructions are executed on a Virtual Machine.\n",
    "\n",
    "##### Why Interpreted?\n",
    "One popular advantage of interpreted languages is that they are platform-independent. As long as the Python bytecode and the Virtual Machine have the same version, Python bytecode can be executed on any platform (Windows, MacOS, etc).\n",
    "Dynamic typing is another advantage. In static-typed languages like C++, you have to declare the variable type and any discrepancy like adding a string and an integer is checked during compile time. In strongly typed languages like Python, it is the job of the interpreter to check the validity of the variable types and operations performed.\n",
    "Disadvantages of Interpreted languages\n",
    "\n",
    "Dynamic typing provides a lot of freedom, but simultaneously it makes your code risky and sometimes difficult to debug.\n",
    "Python is often accused of being **‘slow’**. Now while the term is relative and argued a lot, the reason for being slow is because the interpreter has to do extra work to have the bytecode instruction translated into a form that can be executed on the machine. A StackOverflow post makes it easier to understand using an analogy \n",
    "\n",
    "**If you can talk in your native language to someone, that would generally work faster than having an interpreter having to translate your language into some other language for the listener to understand.**"
   ]
  },
  {
   "cell_type": "markdown",
   "metadata": {},
   "source": [
    "### Python keywords\n",
    "\n",
    "False, elif, lambda,\n",
    "None, else, nonlocal,\n",
    "True, except, not,\n",
    "and, finally, or,\n",
    "as, for, pass,\n",
    "assert, from, raise,\n",
    "break, global, return,\n",
    "class, if, try,\n",
    "continue, import, while,\n",
    "def, in, with,\n",
    "del, is, yield\n",
    "\n",
    "Sometimes, remembering all the keywords can be a difficult task while assigning variable names. Hence a function “kwlist()” is provided in “keyword” module which prints all the 33 python keywords. Below program demonestrates the same\n",
    "\t\t\n"
   ]
  },
  {
   "cell_type": "code",
   "execution_count": 1,
   "metadata": {},
   "outputs": [
    {
     "name": "stdout",
     "output_type": "stream",
     "text": [
      "The list of keywords is : \n",
      "['False', 'None', 'True', 'and', 'as', 'assert', 'async', 'await', 'break', 'class', 'continue', 'def', 'del', 'elif', 'else', 'except', 'finally', 'for', 'from', 'global', 'if', 'import', 'in', 'is', 'lambda', 'nonlocal', 'not', 'or', 'pass', 'raise', 'return', 'try', 'while', 'with', 'yield']\n"
     ]
    }
   ],
   "source": [
    "# importing \"keyword\" for keyword operations\n",
    "import keyword\n",
    "\n",
    "# printing all keywords at once using \"kwlist()\"\n",
    "print (\"The list of keywords is : \")\n",
    "print (keyword.kwlist)"
   ]
  },
  {
   "cell_type": "markdown",
   "metadata": {},
   "source": [
    "**an alphabet:** a set of symbols used to build words of a certain language (e.g., the Latin alphabet for English, the Cyrillic alphabet for Russian, Kanji for Japanese, and so on)\n",
    "\n",
    "**a lexis:** (aka a dictionary) a set of words the language offers its users (e.g., the word \"computer\" comes from the English language dictionary, while \"cmoptrue\" doesn't; the word \"chat\" is present both in English and French dictionaries, but their meanings are different)\n",
    "\n",
    "**a syntax:** a set of rules (formal or informal, written or felt intuitively) used to determine if a certain string of words forms a valid sentence (e.g., \"I am a python\" is a syntactically correct phrase, while \"I a python am\" isn't)\n",
    "\n",
    "**semantics:** a set of rules determining if a certain phrase makes sense (e.g., \"I ate a doughnut\" makes sense, but \"A doughnut ate me\" doesn't)"
   ]
  },
  {
   "cell_type": "code",
   "execution_count": null,
   "metadata": {},
   "outputs": [],
   "source": []
  }
 ],
 "metadata": {
  "kernelspec": {
   "display_name": "Python 3",
   "language": "python",
   "name": "python3"
  },
  "language_info": {
   "codemirror_mode": {
    "name": "ipython",
    "version": 3
   },
   "file_extension": ".py",
   "mimetype": "text/x-python",
   "name": "python",
   "nbconvert_exporter": "python",
   "pygments_lexer": "ipython3",
   "version": "3.8.5"
  }
 },
 "nbformat": 4,
 "nbformat_minor": 4
}
