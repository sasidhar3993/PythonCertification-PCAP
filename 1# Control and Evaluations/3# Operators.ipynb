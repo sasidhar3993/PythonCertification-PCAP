{
 "cells": [
  {
   "cell_type": "markdown",
   "metadata": {},
   "source": [
    "# Operators\n",
    "\n",
    "Operators in general are used to perform operations on values and variables in Python. These are standard symbols used for the purpose of logical and arithmetic operations.\n",
    "\n",
    "### Arithmetic operators:\n",
    "Arithmetic operators are used to perform mathematical operations like addition, subtraction, multiplication and division.\n",
    "\n",
    "\n",
    "\n",
    "| Operator |                                 Description                                | Syntax |\n",
    "|:--------:|:--------------------------------------------------------------------------:|:------:|\n",
    "| +        | Addition: adds two operands                                                | x + y  |\n",
    "| -        | Subtraction: subtracts two operands                                        | x - y  |\n",
    "| *        | Multiplication: multiplies two operands                                    | x * y  |\n",
    "| /        | Division (float): divides the first operand by the second                  | x / y  |\n",
    "| //       | Division (floor): divides the first operand by the second                  | x // y |\n",
    "| %        | Modulus: returns the remainder when first operand is divided by the second | x % y  |\n",
    "| **       | Power : Returns first raised to power second                               | x ** y |\n",
    "    \n"
   ]
  },
  {
   "cell_type": "code",
   "execution_count": 4,
   "metadata": {},
   "outputs": [
    {
     "name": "stdout",
     "output_type": "stream",
     "text": [
      "13\n",
      "5\n",
      "36\n",
      "2.25\n",
      "2\n",
      "1\n",
      "6561\n"
     ]
    }
   ],
   "source": [
    "# Examples of Arithmetic Operator \n",
    "a = 9\n",
    "b = 4\n",
    "  \n",
    "# Addition of numbers \n",
    "add = a + b \n",
    "  \n",
    "# Subtraction of numbers \n",
    "sub = a - b \n",
    "  \n",
    "# Multiplication of number \n",
    "mul = a * b \n",
    "  \n",
    "# Division(float) of number \n",
    "div1 = a / b #2.25\n",
    "  \n",
    "# Division(floor) of number \n",
    "div2 = a // b #2\n",
    "  \n",
    "# Modulo of both number \n",
    "mod = a % b \n",
    "  \n",
    "# Power\n",
    "p = a ** b\n",
    "  \n",
    "# print results \n",
    "print(add) \n",
    "print(sub) \n",
    "print(mul) \n",
    "print(div1) \n",
    "print(div2) \n",
    "print(mod)\n",
    "print(p)"
   ]
  },
  {
   "cell_type": "markdown",
   "metadata": {},
   "source": [
    "### Relational Operators:\n",
    "Relational operators compares the values. It either returns True or False according to the condition.\n",
    "\n",
    "| Operator |                                      Description                                     | Syntax |\n",
    "|:--------:|:------------------------------------------------------------------------------------:|:------:|\n",
    "| >        | Greater than: True if left operand is greater than the right                         | x > y  |\n",
    "| <        | Less than: True if left operand is less than the right                               | x < y  |\n",
    "| ==       | Equal to: True if both operands are equal                                            | x == y |\n",
    "| !=       | Not equal to - True if operands are not equal                                        | x != y |\n",
    "| >=       | Greater than or equal to: True if left operand is greater than or equal to the right | x >= y |\n",
    "| <=       | Less than or equal to: True if left operand is less than or equal to the right       | x <= y |"
   ]
  },
  {
   "cell_type": "code",
   "execution_count": null,
   "metadata": {},
   "outputs": [],
   "source": [
    "# Examples of Relational Operators\n",
    "a = 13\n",
    "b = 33\n",
    "  \n",
    "# a > b is False\n",
    "print(a > b)\n",
    "  \n",
    "# a < b is True\n",
    "print(a < b)\n",
    "  \n",
    "# a == b is False\n",
    "print(a == b)\n",
    "  \n",
    "# a != b is True\n",
    "print(a != b)\n",
    "  \n",
    "# a >= b is False\n",
    "print(a >= b)\n",
    "  \n",
    "# a <= b is True\n",
    "print(a <= b)"
   ]
  },
  {
   "cell_type": "markdown",
   "metadata": {},
   "source": [
    "### Logical operators: \n",
    "Logical operators perform Logical AND, Logical OR and Logical NOT operations.\n",
    "\n",
    "| Operator |                     Description                    |  Syntax |\n",
    "|:--------:|:--------------------------------------------------:|:-------:|\n",
    "| and      | Logical AND: True if both the operands are true    | x and y |\n",
    "| or       | Logical OR: True if either of the operands is true | x or y  |\n",
    "| not      | Logical NOT: True if operand is false              | not x   |"
   ]
  },
  {
   "cell_type": "code",
   "execution_count": null,
   "metadata": {},
   "outputs": [],
   "source": [
    "# Examples of Logical Operator\n",
    "a = True\n",
    "b = False\n",
    "  \n",
    "# Print a and b is False\n",
    "print(a and b)\n",
    "  \n",
    "# Print a or b is True\n",
    "print(a or b)\n",
    "  \n",
    "# Print not a is False\n",
    "print(not a)"
   ]
  },
  {
   "cell_type": "markdown",
   "metadata": {},
   "source": [
    "### Bitwise operators: \n",
    "Bitwise operators acts on bits and performs bit by bit operation.\n",
    "\n",
    "| Operator |     Description     | Syntax |\n",
    "|:--------:|:-------------------:|:------:|\n",
    "| &        | Bitwise AND         | x & y  |\n",
    "| \\|       | Bitwise OR          | x \\| y |\n",
    "| ~        | Bitwise NOT         | ~x     |\n",
    "| ^        | Bitwise XOR         | x ^ y  |\n",
    "| >>       | Bitwise right shift | x>>    |\n",
    "| <<       | Bitwise left shift  | x<<    |"
   ]
  },
  {
   "cell_type": "code",
   "execution_count": 5,
   "metadata": {},
   "outputs": [
    {
     "name": "stdout",
     "output_type": "stream",
     "text": [
      "0\n",
      "14\n",
      "-11\n",
      "14\n",
      "2\n",
      "40\n"
     ]
    }
   ],
   "source": [
    "# Examples of Bitwise operators\n",
    "a = 10\n",
    "b = 4\n",
    "  \n",
    "# Print bitwise AND operation  \n",
    "print(a & b)   #0\n",
    "  \n",
    "# Print bitwise OR operation\n",
    "print(a | b)   #14\n",
    "  \n",
    "# Print bitwise NOT operation \n",
    "print(~a)      #-11\n",
    "  \n",
    "# print bitwise XOR operation \n",
    "print(a ^ b)   #14\n",
    "  \n",
    "# print bitwise right shift operation \n",
    "print(a >> 2)  #2\n",
    "  \n",
    "# print bitwise left shift operation \n",
    "print(a << 2)  #40"
   ]
  },
  {
   "cell_type": "markdown",
   "metadata": {},
   "source": [
    "### Assignment operators: \n",
    "Assignment operators are used to assign values to the variables.\n",
    "\n",
    "| Operator |                                                 Description                                                |                Syntax                |\n",
    "|:--------:|:----------------------------------------------------------------------------------------------------------:|:------------------------------------:|\n",
    "| =        | Assign value of right side of expression to left side operand                                              | x = y + z                            |\n",
    "| +=       | Add AND: Add right side operand with left side operand and then assign to left operand                     | a+=b     a=a+b                       |\n",
    "| -=       | Subtract AND: Subtract right operand from left operand and then assign to left operand                     | a-=b       a=a-b                     |\n",
    "| *=       | Multiply AND: Multiply right operand with left operand and then assign to left operand                     | a*=b       a=a*b                     |\n",
    "| /=       | Divide AND: Divide left operand with right operand and then assign to left operand                         | a/=b         a=a/b                   |\n",
    "| %=       | Modulus AND: Takes modulus using left and right operands and assign result to left operand                 | a%=b   a=a%b                         |\n",
    "| //=      | Divide(floor) AND: Divide left operand with right operand and then assign the value(floor) to left operand | a//=b       a=a//b                   |\n",
    "| \\**=      | Exponent AND: Calculate exponent(raise power) value using operands and assign value to left operand        | a\\**=b     a=a\\**b                     |\n",
    "| &=       | Performs Bitwise AND on operands and assign value to left operand                                          | a&=b     a=a&b                       |\n",
    "| \\|=      | Performs Bitwise OR on operands and assign value to left operand                                           | a\\|=b         a=a\\|b                 |\n",
    "| ^=       | Performs Bitwise xOR on operands and assign value to left operand                                          | a^=b       a=a^b                     |\n",
    "| >>=      | Performs Bitwise right shift on operands and assign value to left operand                                  | a>>=b     a=a>>b                     |\n",
    "| <<=      | Performs Bitwise left shift on operands and assign value to left operand                                   | a <<= b                    a= a << b |\n"
   ]
  },
  {
   "cell_type": "markdown",
   "metadata": {},
   "source": [
    "### Special operators: \n",
    "\n",
    "There are some special type of operators like\n",
    "\n",
    "**Identity operators-**\n",
    "is and is not are the identity operators both are used to check if two values are located on the same part of the memory. Two variables that are equal does not imply that they are identical.\n",
    "\n",
    "* is          True if the operands are identical \n",
    "* is not      True if the operands are not identical \n",
    "\n",
    "\n",
    "**Membership operators-**\n",
    "in and not in are the membership operators; used to test whether a value or variable is in a sequence.\n",
    "\n",
    "* in            True if value is found in the sequence\n",
    "* not in        True if value is not found in the sequence"
   ]
  },
  {
   "cell_type": "code",
   "execution_count": null,
   "metadata": {},
   "outputs": [],
   "source": [
    "# Examples of Identity operators\n",
    "a1 = 3\n",
    "b1 = 3\n",
    "a2 = 'GeeksforGeeks'\n",
    "b2 = 'GeeksforGeeks'\n",
    "a3 = [1,2,3]\n",
    "b3 = [1,2,3]\n",
    "  \n",
    "print(a1 is not b1)\n",
    "  \n",
    "print(a2 is b2)\n",
    "  \n",
    "# Output is False, since lists are mutable.\n",
    "print(a3 is b3)"
   ]
  },
  {
   "cell_type": "code",
   "execution_count": null,
   "metadata": {},
   "outputs": [],
   "source": [
    "# Examples of Membership operator\n",
    "x = 'Geeks for Geeks'\n",
    "y = {3:'a',4:'b'}\n",
    "  \n",
    "print('G' in x)\n",
    "  \n",
    "print('geeks' not in x)\n",
    "  \n",
    "print('Geeks' not in x)\n",
    "  \n",
    "print(3 in y)\n",
    "  \n",
    "print('b' in y)"
   ]
  },
  {
   "cell_type": "markdown",
   "metadata": {},
   "source": [
    "### Precedence and Associativity of Operators: \n",
    "Operator precedence and associativity as these determine the priorities of the operator.\n",
    "\n",
    "**Operator Precedence:** This is used in an expression with more than one operator with different precedence to determine which operation to perform first.\n",
    "\n",
    "**Operator Associativity:** If an expression contains two or more operators with the same precedence then Operator Associativity is used to determine. It can either be Left to Right or from Right to Left.\n",
    "\n",
    "|   Operator   |                                          Description                                          | Associativity |\n",
    "|:------------:|:---------------------------------------------------------------------------------------------:|:-------------:|\n",
    "| ( )          | Parentheses                                                                                   | left-to-right |\n",
    "| **           | Exponent                                                                                      | right-to-left |\n",
    "| *  /  %      | Multiplication/division/modulus                                                               | left-to-right |\n",
    "| +  -         | Addition/subtraction                                                                          | left-to-right |\n",
    "| <<  >>       | Bitwise shift left, Bitwise shift right                                                       | left-to-right |\n",
    "| <  <=  >  >= | Relational less than/less than or equal to  Relational greater than/greater  than or equal to | left-to-right |\n",
    "| ==  !=       | Relational is equal to/is not equal to                                                        | left-to-right |"
   ]
  },
  {
   "cell_type": "code",
   "execution_count": 6,
   "metadata": {},
   "outputs": [
    {
     "name": "stdout",
     "output_type": "stream",
     "text": [
      "610\n",
      "Hello! Welcome.\n"
     ]
    }
   ],
   "source": [
    "# Examples of Operator Precedence\n",
    "  \n",
    "# Precedence of '+' & '*' \n",
    "expr = 10 + 20 * 30\n",
    "print(expr) \n",
    "  \n",
    "# Precedence of 'or' & 'and' \n",
    "name = \"Alex\"\n",
    "age = 0\n",
    "    \n",
    "if name == \"Alex\" or name == \"John\" and age >= 2 :  \n",
    "    print(\"Hello! Welcome.\") \n",
    "else : \n",
    "    print(\"Good Bye!!\")"
   ]
  },
  {
   "cell_type": "code",
   "execution_count": 7,
   "metadata": {},
   "outputs": [
    {
     "name": "stdout",
     "output_type": "stream",
     "text": [
      "100.0\n",
      "6\n",
      "0\n",
      "512\n"
     ]
    }
   ],
   "source": [
    "# Examples of Operator Associativity\n",
    "  \n",
    "# Left-right associativity \n",
    "# 100 / 10 * 10 is calculated as  \n",
    "# (100 / 10) * 10 and not  \n",
    "# as 100 / (10 * 10) \n",
    "print(100 / 10 * 10) \n",
    "    \n",
    "# Left-right associativity \n",
    "# 5 - 2 + 3 is calculated as  \n",
    "# (5 - 2) + 3 and not  \n",
    "# as 5 - (2 + 3) \n",
    "print(5 - 2 + 3) \n",
    "    \n",
    "# left-right associativity \n",
    "print(5 - (2 + 3)) \n",
    "    \n",
    "# right-left associativity \n",
    "# 2 ** 3 ** 2 is calculated as  \n",
    "# 2 ** (3 ** 2) and not  \n",
    "# as (2 ** 3) ** 2 \n",
    "print(2 ** 3 ** 2)"
   ]
  }
 ],
 "metadata": {
  "kernelspec": {
   "display_name": "Python 3",
   "language": "python",
   "name": "python3"
  },
  "language_info": {
   "codemirror_mode": {
    "name": "ipython",
    "version": 3
   },
   "file_extension": ".py",
   "mimetype": "text/x-python",
   "name": "python",
   "nbconvert_exporter": "python",
   "pygments_lexer": "ipython3",
   "version": "3.8.5"
  }
 },
 "nbformat": 4,
 "nbformat_minor": 4
}
