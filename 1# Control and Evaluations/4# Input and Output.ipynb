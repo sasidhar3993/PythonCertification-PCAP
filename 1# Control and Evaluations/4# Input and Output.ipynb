{
 "cells": [
  {
   "cell_type": "markdown",
   "metadata": {},
   "source": [
    "### input ( ) : \n",
    "\n",
    "This function first takes the input from the user and then evaluates the expression, which means Python automatically identifies whether user entered a string or a number or list. If the input provided is not correct then either syntax error or exception is raised by python.\n",
    "\n",
    "How the input function works in Python :\n",
    "\n",
    "* When input() function executes program flow will be stopped until the user has given an input.\n",
    "* The text or message display on the output screen to ask a user to enter input value is optional i.e. the prompt, will be printed on the screen is optional.\n",
    "* Whatever you enter as input, input function convert it into a string. if you enter an integer value still input() function convert it into a string. You need to explicitly convert it into an integer in your code using typecasting."
   ]
  },
  {
   "cell_type": "code",
   "execution_count": 1,
   "metadata": {},
   "outputs": [
    {
     "name": "stdout",
     "output_type": "stream",
     "text": [
      "Enter number :123\n",
      "123\n",
      "Enter name : sasi\n",
      "sasi\n",
      "type of number <class 'str'>\n",
      "type of name <class 'str'>\n"
     ]
    }
   ],
   "source": [
    "# Program to check input \n",
    "# type in Python\n",
    "  \n",
    "num = input (\"Enter number :\")\n",
    "print(num)\n",
    "name1 = input(\"Enter name : \")\n",
    "print(name1)\n",
    "  \n",
    "# Printing type of input value\n",
    "print (\"type of number\", type(num))\n",
    "print (\"type of name\", type(name1))"
   ]
  },
  {
   "cell_type": "markdown",
   "metadata": {},
   "source": [
    "**Use Split method to take multiple inputs**\n",
    "\n",
    " Syntax: input().split(separator, maxsplit) \n"
   ]
  },
  {
   "cell_type": "code",
   "execution_count": 3,
   "metadata": {},
   "outputs": [
    {
     "name": "stdout",
     "output_type": "stream",
     "text": [
      "Enter a three value: 10|20|30\n",
      "Total number of students:  10\n",
      "Number of boys is :  20\n",
      "Number of girls is :  30\n"
     ]
    }
   ],
   "source": [
    "# taking three inputs at a time\n",
    "x, y, z = input(\"Enter a three value: \").split(\"|\")\n",
    "print(\"Total number of students: \", x)\n",
    "print(\"Number of boys is : \", y)\n",
    "print(\"Number of girls is : \", z)"
   ]
  },
  {
   "cell_type": "code",
   "execution_count": 4,
   "metadata": {},
   "outputs": [
    {
     "name": "stdout",
     "output_type": "stream",
     "text": [
      "Enter values:a b c d e\n",
      "['a', 'b', 'c', 'd e']\n"
     ]
    }
   ],
   "source": [
    "# print with maxsplit\n",
    "\n",
    "x = input(\"Enter values:\").split(\" \",maxsplit=3)\n",
    "print(x)"
   ]
  },
  {
   "cell_type": "markdown",
   "metadata": {},
   "source": [
    "### Output using Print:\n",
    "\n",
    "The simplest way to produce output is using the print() function where you can pass zero or more expressions separated by commas. This function converts the expressions you pass into a string before writing to the screen. \n",
    "\n",
    "**Syntax:** *print(value(s), sep= ‘ ‘, end = ‘\\n’, file=file, flush=flush)*\n",
    "Parameters: \n",
    "* **value(s) :** Any value, and as many as you like. Will be converted to string before printed \n",
    "* **sep=’separator’ :** (Optional) Specify how to separate the objects, if there is more than one.Default :’ ‘ \n",
    "* **end=’end’:** (Optional) Specify what to print at the end.Default : ‘\\n’ \n",
    "* **file :** (Optional) An object with a write method. Default :sys.stdout \n",
    "* **flush :** (Optional) A Boolean, specifying if the output is flushed (True) or buffered (False). Default: False\n",
    "* **Returns:** It returns output to the screen.\n",
    "\n",
    "**String literals:**\n",
    "\n",
    "* \\n : This string literal is used to add a new blank line while printing a statement.\n",
    "* “” : An empty quote (“”) is used to print an empty line.\n",
    "\n",
    "**end= ” ” statement**\n",
    "\n",
    "The end keyword is used to specify the content that is to be printed at the end of the execution of the print() function. By default, it is set to “\\n”, which leads to the change of line after the execution of print() statement.\n",
    "\n",
    "**Flush argument**\n",
    "\n",
    "The I/Os in python is generally buffered, meaning they are used in chunks. This is where flush comes in as it helps users to decide if they need the written content to be buffered or not. By default, it is set to false. If it is set to true, the output will be written as a sequence of characters one after the other. This process is slow simply because it is easier to write in chunks rather than writing one character at a time. To understand the use case of the flush argument in the print() function, let’s take an example.\n",
    "\n",
    "**Separator**\n",
    "\n",
    "The print() function can accept any number of positional arguments. These arguments can be separated from each other using a “,” separator. These are primarily used for formatting multiple statements in a single print() function.\n",
    "\n",
    "**File Argument**\n",
    "\n",
    "Contrary to popular belief, the print() function doesn’t convert the messages into text on the screen. These are done by lower-level layers of code, that can read data(message) in bytes. The print() function is an interface over these layers, that delegates the actual printing to a stream or file-like object. By default, the print() function is bound to sys.stdout through the file argument. "
   ]
  },
  {
   "cell_type": "code",
   "execution_count": 6,
   "metadata": {},
   "outputs": [
    {
     "name": "stdout",
     "output_type": "stream",
     "text": [
      "GeeksforGeeks \n",
      " is best for DSA Content.\n",
      "GeeksForGeeks is the best platform for DSA content**\n",
      "Geeks for Geeks\n"
     ]
    }
   ],
   "source": [
    "# String literal \\n example\n",
    "print (\"GeeksforGeeks \\n is best for DSA Content.\")\n",
    "\n",
    "# end argument example\n",
    "print (\"GeeksForGeeks is the best platform for DSA content\", end= \"**\")\n",
    "\n",
    "# Seprator example\n",
    "b = \"for\"\n",
    " \n",
    "print(\"\\nGeeks\", b , \"Geeks\")"
   ]
  },
  {
   "cell_type": "code",
   "execution_count": 9,
   "metadata": {},
   "outputs": [
    {
     "name": "stdout",
     "output_type": "stream",
     "text": [
      "3>>>2>>>1>>>Start\n"
     ]
    }
   ],
   "source": [
    "# Flush example\n",
    "# Execute the program to understand\n",
    "\n",
    "import time\n",
    " \n",
    "count_seconds = 3\n",
    "for i in reversed(range(count_seconds + 1)):\n",
    "    if i > 0:\n",
    "        print(i, end='>>>',flush=False)\n",
    "        time.sleep(1)\n",
    "    else:\n",
    "        print('Start')"
   ]
  },
  {
   "cell_type": "code",
   "execution_count": 10,
   "metadata": {},
   "outputs": [
    {
     "data": {
      "text/plain": [
       "'Hello Geeks!!\\n'"
      ]
     },
     "execution_count": 10,
     "metadata": {},
     "output_type": "execute_result"
    }
   ],
   "source": [
    "# File Argument example\n",
    "\n",
    "import io\n",
    " \n",
    "# declare a dummy file\n",
    "dummy_file = io.StringIO()\n",
    " \n",
    "# add message to the dummy file\n",
    "print('Hello Geeks!!', file=dummy_file)\n",
    " \n",
    "# get the value from dummy file\n",
    "dummy_file.getvalue()"
   ]
  },
  {
   "cell_type": "code",
   "execution_count": 12,
   "metadata": {},
   "outputs": [
    {
     "name": "stdout",
     "output_type": "stream",
     "text": [
      "1 3 4 5 "
     ]
    }
   ],
   "source": [
    "# Print without a new line in Python 3x\n",
    "\n",
    "a = [1,3,4,5]\n",
    "\n",
    "for i in a:\n",
    "    print(i, end=\" \")\n"
   ]
  }
 ],
 "metadata": {
  "kernelspec": {
   "display_name": "Python 3",
   "language": "python",
   "name": "python3"
  },
  "language_info": {
   "codemirror_mode": {
    "name": "ipython",
    "version": 3
   },
   "file_extension": ".py",
   "mimetype": "text/x-python",
   "name": "python",
   "nbconvert_exporter": "python",
   "pygments_lexer": "ipython3",
   "version": "3.8.5"
  }
 },
 "nbformat": 4,
 "nbformat_minor": 4
}
