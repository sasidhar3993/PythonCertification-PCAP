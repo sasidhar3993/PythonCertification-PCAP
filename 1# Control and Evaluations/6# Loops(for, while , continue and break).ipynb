{
 "cells": [
  {
   "cell_type": "markdown",
   "metadata": {},
   "source": [
    "## For loops\n",
    "\n",
    "For loops are used for sequential traversal. For example: traversing a list or string or array etc. In Python, there is no C style for loop, i.e., for (i=0; i<n; i++). There is “for in” loop which is similar to for each loop in other languages.\n",
    "\n",
    "#### Syntax:\n",
    "```\n",
    "for var in iterable:\n",
    "    # statements\n",
    "```"
   ]
  },
  {
   "cell_type": "code",
   "execution_count": 22,
   "metadata": {},
   "outputs": [
    {
     "name": "stdout",
     "output_type": "stream",
     "text": [
      "python\n",
      "language\n",
      "basics\n",
      "python\n",
      "language\n",
      "basics\n",
      "P\n",
      "y\n",
      "t\n",
      "h\n",
      "o\n",
      "n\n",
      "xyz  123\n",
      "abc  345\n"
     ]
    }
   ],
   "source": [
    "# Iterating over a list\n",
    "l = [\"python\", \"language\", \"basics\"]\n",
    "for i in l:\n",
    "    print(i)\n",
    "        \n",
    "# Iterating over a tuple (immutable)\n",
    "t = (\"python\", \"language\", \"basics\")\n",
    "for i in t:\n",
    "    print(i)\n",
    "        \n",
    "# Iterating over a String   \n",
    "s = \"Python\"\n",
    "for i in s :\n",
    "    print(i)\n",
    "        \n",
    "# Iterating over dictionary  \n",
    "d = dict() \n",
    "d['xyz'] = 123\n",
    "d['abc'] = 345\n",
    "for i in d :\n",
    "    print(\"% s % d\" %(i, d[i]))"
   ]
  },
  {
   "cell_type": "markdown",
   "metadata": {},
   "source": [
    "### Range function\n",
    "\n",
    "range() is a built-in function of Python. It is used when a user needs to perform an action for a specific number of times. range() in Python(3.x) is just a renamed version of a function called xrange() in Python(2.x). The range() function is used to generate a sequence of numbers. \n",
    "\n",
    "range() takes mainly three arguments. \n",
    "\n",
    "* **start:** integer starting from which the sequence of integers is to be returned \n",
    "* **stop:** integer before which the sequence of integers is to be returned. \n",
    "The range of integers end at stop – 1. \n",
    "* **step:** integer value which determines the increment between each integer in the sequence "
   ]
  },
  {
   "cell_type": "code",
   "execution_count": 2,
   "metadata": {},
   "outputs": [
    {
     "name": "stdout",
     "output_type": "stream",
     "text": [
      "01234"
     ]
    }
   ],
   "source": [
    "# Range function\n",
    "\n",
    "for i in range(0,5):\n",
    "    print(i, end=\"\")"
   ]
  },
  {
   "cell_type": "code",
   "execution_count": 4,
   "metadata": {},
   "outputs": [
    {
     "name": "stdout",
     "output_type": "stream",
     "text": [
      "10 20 30 40 "
     ]
    }
   ],
   "source": [
    "# using range for iteration\n",
    "l = [10, 20, 30, 40]\n",
    "for i in range(len(l)):\n",
    "    print(l[i], end=\" \")"
   ]
  },
  {
   "cell_type": "code",
   "execution_count": 5,
   "metadata": {},
   "outputs": [
    {
     "name": "stdout",
     "output_type": "stream",
     "text": [
      "Sum of first 10 numbers : 45\n"
     ]
    }
   ],
   "source": [
    "# performing sum of first 10 numbers\n",
    "sum = 0\n",
    "for i in range(1, 10):\n",
    "    sum = sum + i\n",
    "print(\"Sum of first 10 numbers :\", sum)"
   ]
  },
  {
   "cell_type": "markdown",
   "metadata": {},
   "source": [
    "### Continue and Break statements\n",
    "\n",
    "**Continue Statement:** It returns the control to the beginning of the loop.\n",
    "\n",
    "**Break Statement:** It brings control out of the loop."
   ]
  },
  {
   "cell_type": "code",
   "execution_count": 7,
   "metadata": {},
   "outputs": [
    {
     "name": "stdout",
     "output_type": "stream",
     "text": [
      "Current Letter : p\n",
      "Current Letter : y\n",
      "Current Letter : o\n",
      "Current Letter : n\n"
     ]
    }
   ],
   "source": [
    "# Continue Statement\n",
    "# Prints all letters except 't' and 'h'\n",
    "for letter in 'python':\n",
    "    if letter == 't' or letter == 'h':\n",
    "        continue\n",
    "    print('Current Letter :', letter)"
   ]
  },
  {
   "cell_type": "code",
   "execution_count": 13,
   "metadata": {},
   "outputs": [
    {
     "name": "stdout",
     "output_type": "stream",
     "text": [
      "p\n",
      "y\n",
      "Break at letter : t\n"
     ]
    }
   ],
   "source": [
    "# Break Statement\n",
    "\n",
    "for letter in 'python': \n",
    "   \n",
    "    # break the loop as soon it sees 't' \n",
    "    # or 'h'\n",
    "    if letter == 't' or letter == 'h':\n",
    "         break\n",
    "    else:\n",
    "        print(letter)\n",
    "   \n",
    "print('Break at letter :', letter)"
   ]
  },
  {
   "cell_type": "markdown",
   "metadata": {},
   "source": [
    "### For else loop\n",
    "\n",
    "In most of the programming languages (C/C++, Java, etc), the use of else statement has been restricted with the if conditional statements. But Python also allows us to use the else condition with for loops. \n",
    "\n",
    "**Note:** The else block just after for/while is executed only when the loop is *NOT* terminated by a break statement "
   ]
  },
  {
   "cell_type": "code",
   "execution_count": 1,
   "metadata": {},
   "outputs": [
    {
     "name": "stdout",
     "output_type": "stream",
     "text": [
      "1\n",
      "2\n",
      "3\n",
      "No Break\n",
      "\n"
     ]
    }
   ],
   "source": [
    "# Python program to demonstrate\n",
    "# for-else loop\n",
    " \n",
    "for i in range(1, 4):\n",
    "    print(i)\n",
    "else: # Executed because no break in for\n",
    "    print(\"No Break\\n\")"
   ]
  },
  {
   "cell_type": "code",
   "execution_count": 19,
   "metadata": {},
   "outputs": [
    {
     "name": "stdout",
     "output_type": "stream",
     "text": [
      "1\n"
     ]
    }
   ],
   "source": [
    "for i in range(1, 4):\n",
    "    print(i)\n",
    "    break\n",
    "else: # Not executed as there is a break\n",
    "    print(\"No Break\")"
   ]
  },
  {
   "cell_type": "markdown",
   "metadata": {},
   "source": [
    "### While loop\n",
    "\n",
    "In Python, While Loops is used to execute a block of statements repeatedly until a given condition is satisfied. And when the condition becomes false, the line immediately after the loop in the program is executed. While loop falls under the category of indefinite iteration. Indefinite iteration means that the number of times the loop is executed isn’t specified explicitly in advance\n",
    "\n",
    "```\n",
    "while expression:\n",
    "    statement(s)\n",
    "```"
   ]
  },
  {
   "cell_type": "code",
   "execution_count": 21,
   "metadata": {},
   "outputs": [
    {
     "name": "stdout",
     "output_type": "stream",
     "text": [
      "Hello world!\n",
      "Hello world!\n",
      "Hello world!\n"
     ]
    }
   ],
   "source": [
    "# Python program to illustrate \n",
    "# while loop \n",
    "count = 0\n",
    "while (count < 3):     \n",
    "    count = count + 1\n",
    "    print(\"Hello world!\") "
   ]
  },
  {
   "cell_type": "code",
   "execution_count": 23,
   "metadata": {},
   "outputs": [
    {
     "name": "stdout",
     "output_type": "stream",
     "text": [
      "4\n",
      "3\n",
      "2\n",
      "1\n"
     ]
    }
   ],
   "source": [
    "# checks if list still\n",
    "# contains any element \n",
    "a = [1, 2, 3, 4]\n",
    "while a:\n",
    "    print(a.pop())"
   ]
  },
  {
   "cell_type": "code",
   "execution_count": 24,
   "metadata": {},
   "outputs": [
    {
     "name": "stdout",
     "output_type": "stream",
     "text": [
      "Hello Python\n",
      "Hello Python\n",
      "Hello Python\n",
      "Hello Python\n",
      "Hello Python\n"
     ]
    }
   ],
   "source": [
    "count = 0\n",
    "while (count < 5): \n",
    "    count += 1; \n",
    "    print(\"Hello Python\")"
   ]
  },
  {
   "cell_type": "code",
   "execution_count": 25,
   "metadata": {},
   "outputs": [
    {
     "name": "stdout",
     "output_type": "stream",
     "text": [
      "Current Letter : P\n",
      "Current Letter : y\n"
     ]
    }
   ],
   "source": [
    "# break the loop as soon it sees 't'  \n",
    "# or 'o'\n",
    "i = 0\n",
    "a = 'PythonTutorial'\n",
    "  \n",
    "while i < len(a): \n",
    "    if a[i] == 't' or a[i] == 'o': \n",
    "        i += 1\n",
    "        break\n",
    "    print('Current Letter :', a[i])\n",
    "    i += 1"
   ]
  },
  {
   "cell_type": "code",
   "execution_count": 26,
   "metadata": {},
   "outputs": [
    {
     "name": "stdout",
     "output_type": "stream",
     "text": [
      "Value of i : 14\n"
     ]
    }
   ],
   "source": [
    "# An empty loop \n",
    "a = 'PythonTutorial'\n",
    "i = 0\n",
    "  \n",
    "while i < len(a):\n",
    "    i += 1\n",
    "    pass\n",
    "print('Value of i :', i)"
   ]
  },
  {
   "cell_type": "code",
   "execution_count": 27,
   "metadata": {},
   "outputs": [
    {
     "name": "stdout",
     "output_type": "stream",
     "text": [
      "1\n",
      "2\n",
      "3\n",
      "4\n",
      "No Break\n",
      "\n",
      "1\n"
     ]
    }
   ],
   "source": [
    "# Python program to demonstrate\n",
    "# while-else loop\n",
    "i = 0 \n",
    "while i < 4:\n",
    "    i += 1\n",
    "    print(i) \n",
    "else: # Executed because no break in for \n",
    "    print(\"No Break\\n\") \n",
    "  \n",
    "i = 0 \n",
    "while i < 4: \n",
    "    i += 1\n",
    "    print(i) \n",
    "    break\n",
    "else: # Not executed as there is a break \n",
    "    print(\"No Break\")"
   ]
  }
 ],
 "metadata": {
  "kernelspec": {
   "display_name": "Python 3",
   "language": "python",
   "name": "python3"
  },
  "language_info": {
   "codemirror_mode": {
    "name": "ipython",
    "version": 3
   },
   "file_extension": ".py",
   "mimetype": "text/x-python",
   "name": "python",
   "nbconvert_exporter": "python",
   "pygments_lexer": "ipython3",
   "version": "3.8.5"
  }
 },
 "nbformat": 4,
 "nbformat_minor": 4
}
