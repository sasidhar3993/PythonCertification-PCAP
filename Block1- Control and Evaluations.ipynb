{
 "cells": [
  {
   "cell_type": "markdown",
   "metadata": {},
   "source": [
    "# PCAP - Certified Associste in Python Programming\n",
    "### PCAP-31-02\n",
    "##### Exam block #1: Control and Evaluations(25%)\n",
    "\n",
    "* basic concepts: interpreting and the interpreter, compilation and the compiler, language elements, lexis, syntax and semantics, Python keywords, instructions, indenting\n",
    "* literals: Boolean, integer, floating-point numbers, scientific notation, strings\n",
    "* operators: unary and binary, priorities and binding\n",
    "* numeric operators: ** * / % // + –\n",
    "* bitwise operators: ~ & ^ | << >>\n",
    "* string operators: * +\n",
    "* Boolean operators: not and or\n",
    "* relational operators ( == != > >= < <= ), building complex Boolean expressions\n",
    "* assignments and shortcut operators\n",
    "* accuracy of floating-point numbers\n",
    "* basic input and output: input(), print(), int(), float(), str() functions\n",
    "* formatting print() output with end= and sep= arguments\n",
    "* conditional statements: if, if-else, if-elif, if-elif-else\n",
    "* the pass instruction\n",
    "* simple lists: constructing vectors, indexing and slicing, the len() function\n",
    "* simple strings: constructing, assigning, indexing, slicing comparing, immutability\n",
    "* building loops: while, for, range(), in, iterating through sequences\n",
    "* expanding loops: while-else, for-else, nesting loops and conditional statements\n",
    "* controlling loop execution: break, continue\n"
   ]
  },
  {
   "cell_type": "markdown",
   "metadata": {},
   "source": [
    "### Topic1 basic concepts: interpreting and the interpreter, compilation and the compiler, language elements, lexis, syntax and semantics, Python keywords, instructions, indenting"
   ]
  },
  {
   "cell_type": "markdown",
   "metadata": {},
   "source": [
    "#### Python Introduction\n",
    "\n",
    "Python is a widely used general-purpose, high level programming language. It was created by Guido van Rossum in 1991 and further developed by the Python Software Foundation. It was designed with an emphasis on code readability, and its syntax allows programmers to express their concepts in fewer lines of code.\n",
    "\n",
    "Python is a programming language that lets you work quickly and integrate systems more efficiently.\n",
    "\n",
    "There are two major Python versions: Python 2 and Python 3. Both are quite different.\n",
    "\n",
    "###### Python is an interpreted, high-level, general-purpose programming language. It is is dynamically typed and garbage-collected.\n",
    "\n",
    "##### Interpreted Languages\n",
    "\n",
    "When you write a program in C/C++, you have to compile it. Compilation involves translating your human understandable code to machine understandable code, or Machine Code. Machine code is the base level form of instructions that can be directly executed by the CPU. Upon successful compilation, your code generates an executable file. Executing this file runs the operations in your code step by step.\n",
    "For the most part, Python is an interpreted language and not a compiled one, although compilation is a step. Python code, written in .py file is first compiled to what is called bytecode (discussed in detail further) which is stored with a .pyc or .pyo format.\n",
    "Instead of translating source code to machine code like C++, Python code it translated to bytecode. This bytecode is a low-level set of instructions that can be executed by an interpreter. In most PCs, Python interpreter is installed at /usr/local/bin/python3.8. Instead of executing the instructions on CPU, bytecode instructions are executed on a Virtual Machine.\n",
    "\n",
    "##### Why Interpreted?\n",
    "One popular advantage of interpreted languages is that they are platform-independent. As long as the Python bytecode and the Virtual Machine have the same version, Python bytecode can be executed on any platform (Windows, MacOS, etc).\n",
    "Dynamic typing is another advantage. In static-typed languages like C++, you have to declare the variable type and any discrepancy like adding a string and an integer is checked during compile time. In strongly typed languages like Python, it is the job of the interpreter to check the validity of the variable types and operations performed.\n",
    "Disadvantages of Interpreted languages\n",
    "\n",
    "Dynamic typing provides a lot of freedom, but simultaneously it makes your code risky and sometimes difficult to debug.\n",
    "Python is often accused of being **‘slow’**. Now while the term is relative and argued a lot, the reason for being slow is because the interpreter has to do extra work to have the bytecode instruction translated into a form that can be executed on the machine. A StackOverflow post makes it easier to understand using an analogy \n",
    "\n",
    "**If you can talk in your native language to someone, that would generally work faster than having an interpreter having to translate your language into some other language for the listener to understand.**"
   ]
  },
  {
   "cell_type": "markdown",
   "metadata": {},
   "source": []
  },
  {
   "cell_type": "code",
   "execution_count": null,
   "metadata": {},
   "outputs": [],
   "source": []
  }
 ],
 "metadata": {
  "kernelspec": {
   "display_name": "Python 3",
   "language": "python",
   "name": "python3"
  },
  "language_info": {
   "codemirror_mode": {
    "name": "ipython",
    "version": 3
   },
   "file_extension": ".py",
   "mimetype": "text/x-python",
   "name": "python",
   "nbconvert_exporter": "python",
   "pygments_lexer": "ipython3",
   "version": "3.8.5"
  }
 },
 "nbformat": 4,
 "nbformat_minor": 4
}
