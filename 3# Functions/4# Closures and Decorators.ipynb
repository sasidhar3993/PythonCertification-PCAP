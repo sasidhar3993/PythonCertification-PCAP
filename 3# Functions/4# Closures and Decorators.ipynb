{
 "cells": [
  {
   "cell_type": "markdown",
   "metadata": {},
   "source": [
    "### First class functions\n",
    "\n",
    "First class objects in a language are handled uniformly throughout. They may be stored in data structures, passed as arguments, or used in control structures. A programming language is said to support first-class functions if it treats functions as first-class objects.\n",
    "\n",
    "**Properties of first class functions:**\n",
    "\n",
    "* A function is an instance of the Object type.\n",
    "* You can store the function in a variable.\n",
    "* You can pass the function as a parameter to another function.\n",
    "* You can return the function from a function.\n",
    "* You can store them in data structures such as hash tables, lists, …"
   ]
  },
  {
   "cell_type": "markdown",
   "metadata": {},
   "source": [
    "**Functions are objects**"
   ]
  },
  {
   "cell_type": "code",
   "execution_count": 9,
   "metadata": {},
   "outputs": [
    {
     "name": "stdout",
     "output_type": "stream",
     "text": [
      "HELLO\n",
      "HELLO\n"
     ]
    }
   ],
   "source": [
    "# Python program to illustrate functions\n",
    "# can be treated as objects\n",
    "def shout(text):\n",
    "    return text.upper()\n",
    "  \n",
    "print (shout('Hello'))\n",
    "  \n",
    "yell = shout\n",
    "  \n",
    "print (yell('Hello'))"
   ]
  },
  {
   "cell_type": "markdown",
   "metadata": {},
   "source": [
    "**Functions can be passed as arguments to other functions**"
   ]
  },
  {
   "cell_type": "code",
   "execution_count": 8,
   "metadata": {},
   "outputs": [
    {
     "name": "stdout",
     "output_type": "stream",
     "text": [
      "HI, I AM CREATED BY A FUNCTION\n",
      "                    PASSED AS AN ARGUMENT.\n",
      "hi, i am created by a function\n",
      "                    passed as an argument.\n"
     ]
    }
   ],
   "source": [
    "# Python program to illustrate functions\n",
    "# can be passed as arguments to other functions\n",
    "def shout(text):\n",
    "    return text.upper()\n",
    "  \n",
    "def whisper(text):\n",
    "    return text.lower()\n",
    "  \n",
    "def greet(func):\n",
    "    # storing the function in a variable\n",
    "    greeting = func(\"\"\"Hi, I am created by a function\n",
    "                    passed as an argument.\"\"\")\n",
    "    print (greeting) \n",
    "    \n",
    "greet(shout)\n",
    "greet(whisper)"
   ]
  },
  {
   "cell_type": "markdown",
   "metadata": {},
   "source": [
    "**Functions can return another function**"
   ]
  },
  {
   "cell_type": "code",
   "execution_count": 10,
   "metadata": {},
   "outputs": [
    {
     "name": "stdout",
     "output_type": "stream",
     "text": [
      "25\n"
     ]
    }
   ],
   "source": [
    "\n",
    "# Python program to illustrate functions\n",
    "# Functions can return another function\n",
    "  \n",
    "def create_adder(x):\n",
    "    def adder(y):\n",
    "        return x+y\n",
    "  \n",
    "    return adder\n",
    "  \n",
    "add_15 = create_adder(15)\n",
    "  \n",
    "print (add_15(10))"
   ]
  },
  {
   "cell_type": "markdown",
   "metadata": {},
   "source": [
    "#### Closures\n",
    "\n",
    "*A Closure* is a function object that remembers values in enclosing scopes even if they are not present in memory. \n",
    " \n",
    "* It is a record that stores a function together with an environment: a mapping associating each free variable of the function (variables that are used locally but defined in an enclosing scope) with the value or reference to which the name was bound when the closure was created.\n",
    "* A closure—unlike a plain function—allows the function to access those captured variables through the closure’s copies of their values or references, even when the function is invoked outside their scope."
   ]
  },
  {
   "cell_type": "code",
   "execution_count": null,
   "metadata": {},
   "outputs": [],
   "source": [
    "# Python program to illustrate\n",
    "# closures\n",
    "def outerFunction(text):\n",
    "    text = text\n",
    " \n",
    "    def innerFunction():\n",
    "        print(text)\n",
    " \n",
    "    # Note we are returning function\n",
    "    # WITHOUT parenthesis\n",
    "    return innerFunction \n",
    " \n",
    "if __name__ == '__main__':\n",
    "    myFunction = outerFunction('Hey!')\n",
    "    myFunction()"
   ]
  },
  {
   "cell_type": "markdown",
   "metadata": {},
   "source": [
    "* As observed from the above code, closures help to invoke functions outside their scope.\n",
    "* The function innerFunction has its scope only inside the outerFunction. But with the use of closures, we can easily extend its scope to invoke a function outside its scope."
   ]
  },
  {
   "cell_type": "code",
   "execution_count": null,
   "metadata": {},
   "outputs": [],
   "source": [
    "# Python program to illustrate\n",
    "# closures\n",
    "import logging\n",
    "logging.basicConfig(filename='example.log',\n",
    "                    level=logging.INFO)\n",
    " \n",
    "def logger(func):\n",
    "    def log_func(*args):\n",
    "        logging.info(\n",
    "            'Running \"{}\" with arguments {}'.format(func.__name__,\n",
    "                                                    args))\n",
    "        print(func(*args))\n",
    "         \n",
    "    # Necessary for closure to\n",
    "    # work (returning WITHOUT parenthesis)\n",
    "    return log_func            \n",
    " \n",
    "def add(x, y):\n",
    "    return x+y\n",
    " \n",
    "def sub(x, y):\n",
    "    return x-y\n",
    " \n",
    "add_logger = logger(add)\n",
    "sub_logger = logger(sub)\n",
    " \n",
    "add_logger(3, 3)\n",
    "add_logger(4, 5)\n",
    " \n",
    "sub_logger(10, 5)\n",
    "sub_logger(20, 10)"
   ]
  },
  {
   "cell_type": "markdown",
   "metadata": {},
   "source": [
    "**When and why to use Closures:**\n",
    "1. As closures are used as callback functions, they provide some sort of data hiding. This helps us to reduce the use of global variables.\n",
    "\n",
    "2.  When we have few functions in our code, closures prove to be an efficient way. But if we need to have many functions, then go for class (OOP)."
   ]
  },
  {
   "cell_type": "markdown",
   "metadata": {},
   "source": [
    "#### Decorators\n",
    "\n",
    "**Decorators** are very powerful and useful tool in Python since it allows programmers to modify the behavior of function or class. Decorators allow us to wrap another function in order to extend the behavior of the wrapped function, without permanently modifying it. \n",
    "\n"
   ]
  },
  {
   "cell_type": "code",
   "execution_count": 3,
   "metadata": {},
   "outputs": [
    {
     "name": "stdout",
     "output_type": "stream",
     "text": [
      "Dispaly function ran\n"
     ]
    }
   ],
   "source": [
    "def decorator_fucntion(original_function):\n",
    "    def wrapper_function():\n",
    "        return original_function()\n",
    "    return wrapper_function\n",
    "\n",
    "def display():\n",
    "    print('Dispaly function ran')\n",
    "    \n",
    "\n",
    "decorated_display = decorator_fucntion(display)\n",
    "decorated_display()  "
   ]
  },
  {
   "cell_type": "markdown",
   "metadata": {},
   "source": [
    "**Adding extra logic to subtract functon which will always subtract higher number from lower**"
   ]
  },
  {
   "cell_type": "code",
   "execution_count": 1,
   "metadata": {},
   "outputs": [
    {
     "name": "stdout",
     "output_type": "stream",
     "text": [
      "2\n"
     ]
    }
   ],
   "source": [
    "def enhance_sub(func):\n",
    "    def extend_logic(a, b):\n",
    "        if a < b:\n",
    "            a, b = b, a\n",
    "        return func(a, b)\n",
    "\n",
    "    return extend_logic\n",
    "\n",
    "\n",
    "#@enhance_sub\n",
    "def subtract(a, b):\n",
    "    print(a-b)\n",
    "\n",
    "sub_extend = enhance_sub(subtract)\n",
    "sub_extend(5,7)\n",
    "#subtract(5, 7)"
   ]
  },
  {
   "cell_type": "markdown",
   "metadata": {},
   "source": [
    "**Calculating executing time of a function using decarator**"
   ]
  },
  {
   "cell_type": "code",
   "execution_count": 3,
   "metadata": {},
   "outputs": [
    {
     "name": "stdout",
     "output_type": "stream",
     "text": [
      "3628800\n",
      "Total time taken in :  factorial 2.000880479812622\n"
     ]
    }
   ],
   "source": [
    "import time\n",
    "import math\n",
    "\n",
    "def calculate_time(func):\n",
    "\n",
    "    def inner1(*args, **kwargs): \n",
    "        # storing time before function execution\n",
    "        begin = time.time()\n",
    "          \n",
    "        func(*args, **kwargs)\n",
    "        end = time.time()\n",
    "        print(\"Total time taken in : \", func.__name__, end - begin)\n",
    "  \n",
    "    return inner1\n",
    "  \n",
    "@calculate_time\n",
    "def factorial(num):\n",
    "    time.sleep(2)\n",
    "    print(math.factorial(num))\n",
    "\n",
    "factorial(10)"
   ]
  }
 ],
 "metadata": {
  "kernelspec": {
   "display_name": "Python 3",
   "language": "python",
   "name": "python3"
  },
  "language_info": {
   "codemirror_mode": {
    "name": "ipython",
    "version": 3
   },
   "file_extension": ".py",
   "mimetype": "text/x-python",
   "name": "python",
   "nbconvert_exporter": "python",
   "pygments_lexer": "ipython3",
   "version": "3.8.5"
  }
 },
 "nbformat": 4,
 "nbformat_minor": 4
}
