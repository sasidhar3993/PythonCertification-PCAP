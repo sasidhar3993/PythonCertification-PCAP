{
 "cells": [
  {
   "cell_type": "markdown",
   "metadata": {},
   "source": [
    "### Lambda functions\n",
    "\n",
    "In Python, anonymous function means that a function is without a name. As we already know that def keyword is used to define the normal functions and the lambda keyword is used to create anonymous functions\n",
    "\n",
    "**Syntax:**\n",
    "```lambda arguments : expression```\n",
    "\n",
    "* This function can have any number of arguments but only one expression, which is evaluated and returned.\n",
    "* One is free to use lambda functions wherever function objects are required.\n",
    "* You need to keep in your knowledge that lambda functions are syntactically restricted to a single expression.\n",
    "* It has various uses in particular fields of programming besides other types of expressions in functions."
   ]
  },
  {
   "cell_type": "code",
   "execution_count": 1,
   "metadata": {},
   "outputs": [
    {
     "name": "stdout",
     "output_type": "stream",
     "text": [
      "343\n",
      "125\n"
     ]
    }
   ],
   "source": [
    "# Python program to illustrate cube of a number  \n",
    "# showing difference between def() and lambda().\n",
    "  \n",
    "def cube(y): \n",
    "    return y*y*y; \n",
    "    \n",
    "g = lambda x: x*x*x \n",
    "print(g(7)) \n",
    "    \n",
    "print(cube(5))"
   ]
  },
  {
   "cell_type": "code",
   "execution_count": 3,
   "metadata": {},
   "outputs": [
    {
     "name": "stdout",
     "output_type": "stream",
     "text": [
      "[(3, 1), (1, 2), (2, 5)]\n",
      "[(3, 1), (1, 2), (2, 5)]\n"
     ]
    }
   ],
   "source": [
    "def second(x):\n",
    "    return x[1]\n",
    "\n",
    "a = [(1,2),(2,5),(3,1)]\n",
    "a.sort(key=second)\n",
    "print(a)\n",
    "\n",
    "a.sort(key = lambda x:x[1])\n",
    "print(a)"
   ]
  },
  {
   "cell_type": "markdown",
   "metadata": {},
   "source": [
    "**Immediately Invoked Function Expression (IIFE, pronounce “iffy”)**\n",
    " \n",
    "Python does not encourage using immediately invoked lambda expressions. It simply results from a lambda expression being callable, unlike the body of a normal function."
   ]
  },
  {
   "cell_type": "code",
   "execution_count": null,
   "metadata": {},
   "outputs": [],
   "source": [
    "print((lambda x, y: x + y)(2, 3))"
   ]
  },
  {
   "cell_type": "markdown",
   "metadata": {},
   "source": [
    "**Higher order functions**\n",
    "\n",
    "A function is called *Higher Order Function* if it contains other functions as a parameter or returns a function as an output\n",
    "\n",
    "Lambda functions are frequently used with higher-order functions, which take one or more functions as arguments or return one or more functions."
   ]
  },
  {
   "cell_type": "code",
   "execution_count": 4,
   "metadata": {},
   "outputs": [
    {
     "name": "stdout",
     "output_type": "stream",
     "text": [
      "6\n"
     ]
    }
   ],
   "source": [
    "high_ord_func = lambda x, func: x + func(x)\n",
    "\n",
    "print(high_ord_func(2, lambda x: x * x))"
   ]
  }
 ],
 "metadata": {
  "kernelspec": {
   "display_name": "Python 3",
   "language": "python",
   "name": "python3"
  },
  "language_info": {
   "codemirror_mode": {
    "name": "ipython",
    "version": 3
   },
   "file_extension": ".py",
   "mimetype": "text/x-python",
   "name": "python",
   "nbconvert_exporter": "python",
   "pygments_lexer": "ipython3",
   "version": "3.8.5"
  }
 },
 "nbformat": 4,
 "nbformat_minor": 4
}
