{
 "cells": [
  {
   "cell_type": "markdown",
   "metadata": {},
   "source": [
    "### Yield and Generator function\n",
    "\n",
    "The yield statement suspends function’s execution and sends a value back to the caller, but retains enough state to enable function to resume where it is left off. When resumed, the function continues execution immediately after the last yield run. This allows its code to produce a series of values over time, rather than computing them at once and sending them back like a list."
   ]
  },
  {
   "cell_type": "code",
   "execution_count": 1,
   "metadata": {},
   "outputs": [
    {
     "name": "stdout",
     "output_type": "stream",
     "text": [
      "1 2 3 "
     ]
    }
   ],
   "source": [
    "# A Simple Python program to demonstrate working\n",
    "# of yield\n",
    "  \n",
    "# A generator function that yields 1 for the first time,\n",
    "# 2 second time and 3 third time\n",
    "def simpleGeneratorFun():\n",
    "    yield 1\n",
    "    yield 2\n",
    "    yield 3\n",
    "\n",
    "# Driver code to check above generator function\n",
    "for value in simpleGeneratorFun(): \n",
    "    print(value, end = \" \")"
   ]
  },
  {
   "cell_type": "markdown",
   "metadata": {},
   "source": [
    "Return sends a specified value back to its caller whereas Yield can produce a sequence of values. We should use yield when we want to iterate over a sequence, but don’t want to store the entire sequence in memory.\n",
    "\n",
    "Yield are used in Python generators. A generator function is defined like a normal function, but whenever it needs to generate a value, it does so with the yield keyword rather than return. **If the body of a def contains yield, the function automatically becomes a generator function.**"
   ]
  },
  {
   "cell_type": "code",
   "execution_count": 2,
   "metadata": {},
   "outputs": [
    {
     "name": "stdout",
     "output_type": "stream",
     "text": [
      "1 4 9 16 25 36 49 64 81 100 "
     ]
    }
   ],
   "source": [
    "# An infinite generator function that prints\n",
    "# next square number. It starts with 1\n",
    "def nextSquare():\n",
    "    i = 1;\n",
    "    while True:\n",
    "        yield i*i                \n",
    "        i += 1    \n",
    "\n",
    "for num in nextSquare():\n",
    "    if num > 100:\n",
    "         break    \n",
    "    print(num, end=\" \")"
   ]
  },
  {
   "cell_type": "markdown",
   "metadata": {},
   "source": [
    "#### Memory usage example\n",
    "\n",
    "https://www.askpython.com/python/python-yield-examples\n",
    "\n",
    "**Check the link for memory consumption better yield fucntion and normal function**"
   ]
  }
 ],
 "metadata": {
  "kernelspec": {
   "display_name": "Python 3",
   "language": "python",
   "name": "python3"
  },
  "language_info": {
   "codemirror_mode": {
    "name": "ipython",
    "version": 3
   },
   "file_extension": ".py",
   "mimetype": "text/x-python",
   "name": "python",
   "nbconvert_exporter": "python",
   "pygments_lexer": "ipython3",
   "version": "3.8.5"
  }
 },
 "nbformat": 4,
 "nbformat_minor": 4
}
